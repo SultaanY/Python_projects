{
 "cells": [
  {
   "cell_type": "code",
   "execution_count": 1,
   "id": "42bf3306-71cb-4d22-bb2a-6180f0e72056",
   "metadata": {},
   "outputs": [],
   "source": [
    "from random import shuffle"
   ]
  },
  {
   "cell_type": "code",
   "execution_count": 21,
   "id": "fcd1169d-c7bb-495a-8a26-7a99f3ae94ca",
   "metadata": {},
   "outputs": [],
   "source": [
    "mylist=['','O','']\n",
    "shuffle(mylist)"
   ]
  },
  {
   "cell_type": "code",
   "execution_count": 23,
   "id": "cf6021b5-7c5a-4ad5-8a0d-d9a2c0167a0f",
   "metadata": {},
   "outputs": [
    {
     "data": {
      "text/plain": [
       "['', '', 'O']"
      ]
     },
     "execution_count": 23,
     "metadata": {},
     "output_type": "execute_result"
    }
   ],
   "source": [
    "mylist"
   ]
  },
  {
   "cell_type": "code",
   "execution_count": 51,
   "id": "6f419d57-6ddb-4abb-8cd5-03aa1108dee4",
   "metadata": {},
   "outputs": [],
   "source": [
    "def player_input():\n",
    "    guess = ''\n",
    "    while guess not in ['1','2','3']:\n",
    "        guess=input(\"Is the O in position 1, 2 or 3: \")\n",
    "    return int(guess)\n",
    "\n",
    "def check_guess(mylist, guess):\n",
    "    if mylist[guess-1]=='O':\n",
    "        print(\"Correct\")\n",
    "        print(mylist)\n",
    "    else:\n",
    "        print(\"Better luck next time\")\n",
    "        print(mylist)\n",
    "\n",
    "def shuffle_list(mylist):\n",
    "    shuffle(mylist)\n",
    "    return mylist\n",
    "\n",
    "    "
   ]
  },
  {
   "cell_type": "code",
   "execution_count": 69,
   "id": "2817d3a0-6e5b-46bb-8def-aa4786864a4f",
   "metadata": {},
   "outputs": [
    {
     "name": "stdin",
     "output_type": "stream",
     "text": [
      "Is the O in position 1, 2 or 3:  1\n"
     ]
    },
    {
     "name": "stdout",
     "output_type": "stream",
     "text": [
      "Correct\n",
      "['O', '', '']\n"
     ]
    }
   ],
   "source": [
    "#shuffle list\n",
    "mylist=['','O','']\n",
    "shufflelist=shuffle_list(mylist)\n",
    "\n",
    "#ask for players guess\n",
    "guess = player_input()\n",
    "\n",
    "#check answer\n",
    "check_guess(shufflelist, guess)"
   ]
  }
 ],
 "metadata": {
  "kernelspec": {
   "display_name": "Python 3 (ipykernel)",
   "language": "python",
   "name": "python3"
  },
  "language_info": {
   "codemirror_mode": {
    "name": "ipython",
    "version": 3
   },
   "file_extension": ".py",
   "mimetype": "text/x-python",
   "name": "python",
   "nbconvert_exporter": "python",
   "pygments_lexer": "ipython3",
   "version": "3.8.19"
  }
 },
 "nbformat": 4,
 "nbformat_minor": 5
}
